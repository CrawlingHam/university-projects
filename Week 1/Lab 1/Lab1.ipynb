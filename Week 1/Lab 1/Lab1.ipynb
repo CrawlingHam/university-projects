{
 "cells": [
  {
   "cell_type": "markdown",
   "id": "119dfe66",
   "metadata": {},
   "source": [
    "# Python Programming Lab 1\n",
    "\n",
    "## Summary\n",
    "This lab demonstrates fundamental Python concepts through an interactive menu with the following features:\n",
    "\n",
    "- **Basic arithmetic operations** (addition and multiplication)\n",
    "- **Cross-platform console clearing** (Windows/Unix)\n",
    "- **Interactive menu system** with history\n",
    "- **User input validation**\n"
   ]
  },
  {
   "cell_type": "markdown",
   "id": "8104eb11",
   "metadata": {},
   "source": [
    "## 1. Basic Function Definitions\n",
    "\n",
    "Let's start with the core mathematical functions that demonstrate parameter handling and optional logging:\n"
   ]
  },
  {
   "cell_type": "code",
   "execution_count": 9,
   "id": "104f32b8",
   "metadata": {},
   "outputs": [
    {
     "name": "stdout",
     "output_type": "stream",
     "text": [
      "Testing basic operations:\n",
      "4 * 6 = 24\n",
      "5 + 3 = 8\n"
     ]
    }
   ],
   "source": [
    "def add(a, b, log=False):\n",
    "    \"\"\"Adds two numbers with optional logging\"\"\"\n",
    "    result = a + b\n",
    "    if log:\n",
    "        print(a, \"+\", b, \"=\", result)\n",
    "    return result\n",
    "\n",
    "def multiply(a, b, log=False):\n",
    "    \"\"\"Multiplies two numbers with optional logging\"\"\"\n",
    "    result = a * b\n",
    "    if log:\n",
    "        print(a, \"*\", b, \"=\", result)\n",
    "    return result\n",
    "\n",
    "# Tests\n",
    "print(\"Testing basic operations:\")\n",
    "product = multiply(4, 6, log=True)\n",
    "sum = add(5, 3, log=True)\n"
   ]
  },
  {
   "cell_type": "markdown",
   "id": "6614a5e6",
   "metadata": {},
   "source": [
    "## 2. Cross-Platform Console Management\n",
    "\n",
    "These utility functions handle terminal operations across different operating systems:\n"
   ]
  },
  {
   "cell_type": "code",
   "execution_count": 11,
   "id": "bb48e26d",
   "metadata": {},
   "outputs": [
    {
     "name": "stdout",
     "output_type": "stream",
     "text": [
      "Before clearing the console\n",
      "system name:  nt\n",
      "After clearing the console\n"
     ]
    }
   ],
   "source": [
    "import os\n",
    "\n",
    "def clear_console():\n",
    "    \"\"\"Clears the terminal for Windows and Linux systems\"\"\"\n",
    "    os.system('cls' if os.name == 'nt' else 'clear')\n",
    "    print(\"system name: \", os.name)\n",
    "\n",
    "# Demonstration\n",
    "print(\"Before clearing the console\")\n",
    "clear_console()\n",
    "print(\"After clearing the console\")\n"
   ]
  },
  {
   "cell_type": "markdown",
   "id": "227f64e5",
   "metadata": {},
   "source": [
    "## 3. Adding to choice history\n",
    "\n",
    "Adding user choices to the choice history allows us to later use it to display the menu and history side by side:\n"
   ]
  },
  {
   "cell_type": "code",
   "execution_count": 12,
   "id": "c8f3e9a1",
   "metadata": {},
   "outputs": [
    {
     "name": "stdout",
     "output_type": "stream",
     "text": [
      "Testing choice history:\n",
      "['Add (5+3=8)']\n"
     ]
    }
   ],
   "source": [
    "a = 5\n",
    "b = 3\n",
    "\n",
    "choice_history = []\n",
    "result = add(a,b, log = False)\n",
    "\n",
    "choice_history.append(\"Add\")\n",
    "choice_history[-1] += f\" ({a}+{b}={result})\"\n",
    "\n",
    "# Test\n",
    "print(\"Testing choice history:\")\n",
    "print(choice_history)\n"
   ]
  },
  {
   "cell_type": "markdown",
   "id": "c0c364f3",
   "metadata": {},
   "source": [
    "## 4. Advanced Display\n",
    "\n",
    "The menu display function demonstrates string formatting and layout design:\n"
   ]
  },
  {
   "cell_type": "code",
   "execution_count": 13,
   "id": "90854b0e",
   "metadata": {},
   "outputs": [
    {
     "name": "stdout",
     "output_type": "stream",
     "text": [
      "Testing menu display:\n",
      "Welcome to Python Programming            | Choice History:\n",
      "                                         | ===============\n",
      "Select one of the following options:     | Name: John Doe\n",
      "1. Add                                   | Age: Unknown\n",
      "2. Multiply                              | Multiply (6*7=42)\n",
      "3. Assign name                           | \n",
      "4. Register age                          | \n",
      "                                         | \n"
     ]
    }
   ],
   "source": [
    "def display_menu_with_history(choice_history):\n",
    "    \"\"\"Displays menu alongside choice history side-by-side\"\"\"\n",
    "    width = 40\n",
    "    lines = [\n",
    "        \"Welcome to Python Programming\",\n",
    "        \"\",\n",
    "        \"Select one of the following options:\",\n",
    "        \"1. Add\",\n",
    "        \"2. Multiply\", \n",
    "        \"3. Assign name\",\n",
    "        \"4. Register age\",\n",
    "        \"\"\n",
    "    ]\n",
    "    \n",
    "    # Show the last 10 choices\n",
    "    history_lines = [\"Choice History:\", \"=\" * 15] + choice_history[-10:] \n",
    "    \n",
    "    # Print menu and history side by side\n",
    "    max_lines = max(len(lines), len(history_lines))\n",
    "    \n",
    "    for i in range(max_lines):\n",
    "        menu_text = lines[i] if i < len(lines) else \"\"\n",
    "        history_text = history_lines[i] if i < len(history_lines) else \"\"\n",
    "        print(f\"{menu_text:<{width}} | {history_text}\")\n",
    "    \n",
    "    return \n",
    "\n",
    "# Test\n",
    "print(\"Testing menu display:\")\n",
    "history = [\n",
    "    \"Name: John Doe\",\n",
    "    \"Age: Unknown\",\n",
    "    \"Multiply (6*7=42)\"\n",
    "]\n",
    "display_menu_with_history(history)\n"
   ]
  }
 ],
 "metadata": {
  "kernelspec": {
   "display_name": ".venv",
   "language": "python",
   "name": "python3"
  },
  "language_info": {
   "codemirror_mode": {
    "name": "ipython",
    "version": 3
   },
   "file_extension": ".py",
   "mimetype": "text/x-python",
   "name": "python",
   "nbconvert_exporter": "python",
   "pygments_lexer": "ipython3",
   "version": "3.12.6"
  }
 },
 "nbformat": 4,
 "nbformat_minor": 5
}
